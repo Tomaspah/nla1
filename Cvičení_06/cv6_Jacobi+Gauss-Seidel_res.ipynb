{
 "cells": [
  {
   "attachments": {},
   "cell_type": "markdown",
   "metadata": {},
   "source": [
    "# Cvičení 6\n",
    "\n",
    "Tématem tohoto cvičení je iterační řešení soustav lineárních rovnic.\n",
    "\n",
    "## Jacobiho a Gaussova-Seidelova metoda\n",
    "\n",
    "### Příklad 1\n",
    "\n",
    "Připomeňme, že předpis pro $i$-tý prvek vektoru $\\mathbf{x}^{k+1}$ je v případě Jacobiho metody\n",
    "$$(\\mathbf{x}^{k+1})_i = \\frac{1}{a_{i,i}}\\left(b_i - \\sum_{j=1, j\\neq i}^n a_{i, j}(\\mathbf{x}^k)_j\\right)$$\n",
    "a v případě Gaussovy-Seidelovy metody\n",
    "$$(\\mathbf{x}^{k+1})_i = \\frac{1}{a_{i,i}}\\left(b_i - \\sum_{j=1}^{i-1} a_{i, j}(\\mathbf{x}^{k+1})_j - \\sum_{j=i+1}^{n} a_{i, j}(\\mathbf{x}^k)_j\\right).$$\n",
    "\n",
    "\n",
    "Mějme soustavu rovnic $\\mathsf{A}\\mathbf{x}=\\mathbf{b}$\n",
    "\n",
    "$$\n",
    "\\mathsf{A}=\n",
    "\\begin{bmatrix}\n",
    "4 & 2 & 1 \\\\\n",
    "3 & 10 & 3 \\\\\n",
    "1 & 1 &5\n",
    "\\end{bmatrix},\\qquad\n",
    "\\mathbf{b} = \n",
    "\\begin{bmatrix}\n",
    "2 \\\\ 4 \\\\ 3\n",
    "\\end{bmatrix}\n",
    "$$\n",
    "\n",
    "1) Nalezněte přibližné řešení $\\mathbf{x}^3$ této soustavy pomocí tří iterací Jacobiho metody (ručně). Jako počáteční vektor volte\n",
    "$$\\mathbf{x}^0=\n",
    "\\begin{bmatrix}\n",
    "1\\\\1\\\\1\n",
    "\\end{bmatrix}\n",
    "$$\n",
    "\n",
    "2) Nalezněte přibližné řešení $\\mathbf{x}^3$ této soustavy pomocí tří iterací Gaussovy-Seidelovy metody (ručně). Počáteční vektor volte stejně.\n",
    "\n",
    "3) Určete přesné řešení $\\mathbf{x}$ pomocí NumPy (přes `numpy.linalg.solve`). Pomocí něj vypočtěte normy chyb a reziduí vámi nalezených řešení:\n",
    "\n",
    "$$\\|\\mathbf{e}_{\\mathrm{Jacobi}}\\| = \\|\\mathbf{x}_{\\mathrm{Jacobi}} - \\mathbf{x}\\|$$\n",
    "$$\\|\\mathbf{e}_{\\mathrm{Gauss-Seidel}}\\| = \\|\\mathbf{x}_{\\mathrm{Gauss-Seidel}} - \\mathbf{x}\\|$$\n",
    "$$\\|\\mathbf{r}_{\\mathrm{Jacobi}}\\| = \\|\\mathbf{b} - \\mathsf{A}\\mathbf{x}_{\\mathrm{Jacobi}}\\|$$\n",
    "$$\\|\\mathbf{r}_{\\mathrm{Gauss-Seidel}}\\| = \\|\\mathbf{b} - \\mathsf{A}\\mathbf{x}_{\\mathrm{Gauss-Seidel}}\\|$$\n",
    "\n",
    "Porovnejte přesnost řešení jednotlivými metodami."
   ]
  },
  {
   "attachments": {},
   "cell_type": "markdown",
   "metadata": {},
   "source": [
    "### Příklad 2\n",
    "\n",
    "Naprogramujte funkci `jacobi()`, která implementuje Jacobiho iterační metodu. Na vstupu bude matice `A`, vektor pravé strany `b`, počáteční odhad `x0`, relativní přesnost `tol` a maximální počet iterací `max_it`. Funkce vrátí vektor řešení, skutečný počet iterací a dosaženou přesnost (normu vektoru rezidua $\\|\\mathbf{r}^{k}\\|$). \n",
    "\n",
    "Jako počáteční vektor volte vektor samých nul.\n",
    "\n",
    "Ukončovací podmínku volte ve tvaru relativní změny rezidua:\n",
    "$$\\|\\frac{\\mathbf{r}^{k}}{\\mathbf{r}^{0}}\\| < \\varepsilon$$\n",
    "\n",
    "Vyjít můžete např. z následujícího pseudokódu:\n",
    "\n",
    "\n",
    "$$\n",
    "\\begin{array}{l}\n",
    "\\text{Input: matrix } A, \\text{ right-hand side vector } b, \\text{ initial approximation } x_0, \\text{ tolerance tol, maximum number of iterations max\\_it.}\\\\\n",
    "\\text{1. Set iteration counter } k = 0\\text{, set } x_{\\mathrm{prev}} = x_0  \\\\\n",
    "\\text{2. Calculate the initial residual norm } \\text{res\\_norm\\_0} = \\text{res\\_norm} = ||b-A*x_0||\\\\\n",
    "\\text{3. \\bf{while} } \\text{res\\_norm/res\\_norm\\_0 > tol and k < max\\_it \\bf{do}}\\\\\n",
    "\\quad\\begin{array}{l}\n",
    "\\text{1. Initialize a new solution vector } x_\\text{new}\\\\\n",
    "\\text{2. \\bf{for} } i = 1 \\text{ to } n \\text{ \\bf{do} } \\text{(where } n \\text{ is the number of rows in } A)\\\\\n",
    "\\qquad\\begin{array}{l}\n",
    "\\text{1. Calculate the sum of } A(i, j) * x_{\\mathrm{prev}}(j) \\text{ for all } j \\neq i\\\\\n",
    "\\text{2. Update } x_\\text{new}(i) = (b(i) - \\text{sum}) / A(i, i)\\\\\n",
    "\\end{array}\\\\\n",
    "\\text{3. end for}\\\\\n",
    "\\text{4. Calculate the residual norm: } \\text{res\\_norm} = ||b-A*x_\\text{new}||\\\\\n",
    "\\text{5. Update the solution: } x_{\\mathrm{prev}} = x_\\text{new}\\\\\n",
    "\\text{6. Increment the iteration counter: } k = k + 1\\\\\n",
    "\\end{array}\\\\\n",
    "\\text{4. end while}\\\\\n",
    "\\text{5. The solution is stored in } x_\\text{new}\\\\\n",
    "\\end{array}\n",
    "$$\n",
    "\n",
    "**Poznámka**: potřebujete násobit matici a vektor, dbejte tedy na správné rozměry jednotlivých vektorů.\n"
   ]
  },
  {
   "cell_type": "code",
   "execution_count": null,
   "metadata": {},
   "outputs": [],
   "source": [
    "import numpy as np"
   ]
  },
  {
   "cell_type": "code",
   "execution_count": null,
   "metadata": {},
   "outputs": [],
   "source": [
    "# UKOL: \n",
    "# 1. vygenerujte vhodnou systemovou matici (nahodnou diagonalne dominantni matici, napr. rozmeru 5x5)\n",
    "# 2. vygenerujte nahodny vektor prave strany\n",
    "# 3. vygenerujte počáteční vektor x0 (nulovy vektor)\n",
    "\n",
    "A = np.random.rand(5,5)\n",
    "A = A + 4 * np.eye(5)\n",
    "b = np.random.rand(5,1)\n",
    "x0 = np.zeros((5,1))"
   ]
  },
  {
   "cell_type": "code",
   "execution_count": null,
   "metadata": {},
   "outputs": [],
   "source": [
    "# UKOL: Doplnte kod funkce jacobi\n",
    "\n",
    "def jacobi(A, b, x0, tol, max_it):\n",
    "\n",
    "    m, n = np.shape(A)\n",
    "\n",
    "    k = 0\n",
    "    r0 = np.linalg.norm(b - A@x0)\n",
    "    r = r0\n",
    "\n",
    "    x_prev = np.copy(x0)\n",
    "\n",
    "    while (r/r0 > tol) and k < max_it:\n",
    "        x_new = np.zeros_like(x0)\n",
    "        for i in range(n):\n",
    "            s = 0\n",
    "            for j in range(0, i):\n",
    "                s+=A[i, j]*x_prev[j, 0]\n",
    "            for j in range(i+1, n):\n",
    "                s+=A[i, j]*x_prev[j, 0]\n",
    "            x_new[i] = (b[i] - s)/A[i,i]\n",
    "        r = np.linalg.norm(b - A@x_new)\n",
    "        x_prev = np.copy(x_new)\n",
    "        k+=1\n",
    "    return x_new, k, r"
   ]
  },
  {
   "cell_type": "code",
   "execution_count": null,
   "metadata": {},
   "outputs": [],
   "source": [
    "# UKOL: Otestujte vami vytvorenou metodu\n",
    "# 1. porovnejte reseni pomoci vasi metody a zabudovane numpy metody solve\n",
    "# 2. vytisknete pocet iteraci potrebnych k dosazeni reseni a normu rezidua\n",
    "\n",
    "x, k, r = jacobi(A, b, x0, 1e-5, 100)\n",
    "\n",
    "x_numpy = np.linalg.solve(A, b)\n",
    "print(\"Vase reseni: \")\n",
    "print(x)\n",
    "print(\"Numpy reseni: \")\n",
    "print(x_numpy)\n",
    "print(\"Metoda dokonvergovala k reseni v {} iteracich.\".format(k))\n",
    "print(\"Norma rezidua je {}.\".format(r))"
   ]
  },
  {
   "attachments": {},
   "cell_type": "markdown",
   "metadata": {},
   "source": [
    "## Domácí úkol č. 4\n",
    "\n",
    "Implementujte Gaussovu-Seidelovu iterační metodu. Funkce `gauss_seidel` bude mít stejné vstupy a výstupy jako `jacobi`. Vyjděte z funkce `jacobi`, kterou vhodně upravte."
   ]
  },
  {
   "cell_type": "code",
   "execution_count": null,
   "metadata": {},
   "outputs": [],
   "source": [
    "# UKOL: Doplnte.\n",
    "\n",
    "def gauss_seidel(A, b, x0, tol, max_it):\n",
    "\n",
    "    \n",
    "    "
   ]
  },
  {
   "cell_type": "code",
   "execution_count": null,
   "metadata": {},
   "outputs": [],
   "source": [
    "# Zavolejte tuto bunku a otestujte, ze vase metoda funguje spravne\n",
    "\n",
    "# sestavime diagonalne dominantni matici, vektor prave strany, pocatecni odhad reseni\n",
    "A = np.array([[4, 2, 1], [3, 10, 3], [1, 1, 5]])\n",
    "b = np.array([[2, 4, 3]]).T\n",
    "x0 = np.ones((3, 1))\n",
    "\n",
    "# zavolame vasi metodu\n",
    "x, k, r = gauss_seidel(A, b, x0, 1e-5, 100)\n",
    "\n",
    "# vyresime pomoci numpy\n",
    "x_numpy = np.linalg.solve(A, b)\n",
    "\n",
    "# porovname\n",
    "print(\"Vase reseni: \")\n",
    "print(x)\n",
    "print(\"Numpy reseni: \")\n",
    "print(x_numpy)\n",
    "print(\"Metoda dokonvergovala k reseni v {} iteracich.\".format(k))\n",
    "print(\"Norma rezidua je {}.\".format(r))"
   ]
  },
  {
   "attachments": {},
   "cell_type": "markdown",
   "metadata": {},
   "source": [
    "Pomocí metody `jacobi` ze cvičení a metody `gauss_seidel` vyřešte soustavu definovanou v předchozí buňce s různou přesností `tol` (0.01, 0.0001, 1e-8). Zapište počty iterací do tabulky."
   ]
  },
  {
   "cell_type": "code",
   "execution_count": null,
   "metadata": {},
   "outputs": [],
   "source": [
    "x_jac_1, k_jac_1, r_jac_1 = jacobi(A, b, x0, 0.01, 100)\n",
    "x_jac_2, k_jac_2, r_jac_2 = jacobi(A, b, x0, 0.0001, 100)\n",
    "x_jac_3, k_jac_3, r_jac_3 = jacobi(A, b, x0, 1e-8, 100)\n",
    "\n",
    "x_gs_1, k_gs_1, r_gs_1 = gauss_seidel(A, b, x0, 0.01, 100)\n",
    "x_gs_2, k_gs_2, r_gs_2 = gauss_seidel(A, b, x0, 0.0001, 100)\n",
    "x_gs_3, k_gs_3, r_gs_3 = gauss_seidel(A, b, x0, 1e-8, 100)\n",
    "\n",
    "print(\"Pocty iteraci Jacobiho metody\")\n",
    "print([k_jac_1, k_jac_2, k_jac_3])\n",
    "\n",
    "print(\"Pocty iteraci Gaussovy-Seidelovy metody\")\n",
    "print([k_gs_1, k_gs_2, k_gs_3])"
   ]
  },
  {
   "cell_type": "code",
   "execution_count": null,
   "metadata": {},
   "outputs": [],
   "source": [
    "# Doplnte tabulku s pocty iteraci:\n",
    "# Jacobi:\n",
    "# tol = 0.01,   k = \n",
    "# tol = 0.0001, k =\n",
    "# tol = 1e-8,   k =\n",
    "\n",
    "# Gauss-Seidel:\n",
    "# tol = 0.01,   k = \n",
    "# tol = 0.0001, k =\n",
    "# tol = 1e-8,   k ="
   ]
  }
 ],
 "metadata": {
  "kernelspec": {
   "display_name": "Python 3",
   "language": "python",
   "name": "python3"
  },
  "language_info": {
   "codemirror_mode": {
    "name": "ipython",
    "version": 3
   },
   "file_extension": ".py",
   "mimetype": "text/x-python",
   "name": "python",
   "nbconvert_exporter": "python",
   "pygments_lexer": "ipython3",
   "version": "3.8.10"
  },
  "orig_nbformat": 4
 },
 "nbformat": 4,
 "nbformat_minor": 2
}
