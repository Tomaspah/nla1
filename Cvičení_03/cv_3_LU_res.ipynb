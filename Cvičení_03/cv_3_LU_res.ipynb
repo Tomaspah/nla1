{
 "cells": [
  {
   "attachments": {},
   "cell_type": "markdown",
   "metadata": {},
   "source": [
    "# Cvičení 3\n",
    "\n",
    "Tématem tohoto cvičení jsou přímé metody řešení soustav lineárních rovnic. Budeme se zabývat dopřednou a zpětnou substitucí a LU rozkladem."
   ]
  },
  {
   "attachments": {},
   "cell_type": "markdown",
   "metadata": {},
   "source": [
    "## Dopředná a zpětná substituce\n",
    "\n",
    "Základní princip přímých metod řešení soustav lineárních rovnic je převod matice soustavy na součin trojúhelníkových matic, např. \n",
    "$$\\mathsf{A} = \\mathsf{L}\\mathsf{U}.$$\n",
    "Soustavu $\\mathsf{A}\\mathbf{x} = \\mathbf{b}$ tak převedeme na tvar\n",
    "$$\\mathsf{L}\\mathsf{U}\\mathbf{x} = \\mathbf{b}$$\n",
    "a vyřešíme ji ve dvou krocích \n",
    "1) $\\mathsf{L}\\mathbf{y}=\\mathbf{b}$\n",
    "2) $\\mathsf{U}\\mathbf{x}=\\mathbf{y}$\n",
    "pomocí dopředné a zpětné substituce.\n",
    "\n",
    "V této části cvičení tedy nejdříve implementujeme funkce pro dopřednou a zpětnou substituci, které později využijeme k řešení soustav.\n",
    "\n",
    "### Testovací matice\n",
    "\n",
    "Nejprve vygenerujte testovací matice, pomocí kterých později zjistíte, zda vaše funkce pracují správně. Budete k tomu potřebovat\n",
    "- funkci z knihovny NumPy, pomocí které vygenerujete náhodnou matici o daném rozměru (znáte z prvního cvičení),\n",
    "- funkce `triu`, `tril` z knihovny NumPy (zjistěte v dokumentaci nebo pomocí Googlu, k čemu slouží a jak se používají)"
   ]
  },
  {
   "cell_type": "code",
   "execution_count": null,
   "metadata": {},
   "outputs": [],
   "source": [
    "# ÚKOL: importujte potřebnou knihovnu NumPy pod zkratkou np\n",
    "import numpy as np"
   ]
  },
  {
   "cell_type": "code",
   "execution_count": null,
   "metadata": {},
   "outputs": [],
   "source": [
    "# ÚKOL: vygenerujte matici A náhodných čísel o rozměrech 4x4\n",
    "A = np.random.rand(4, 4)\n",
    "\n",
    "np.set_printoptions(precision=3) # pro lepší přehlednost\n",
    "print(A)"
   ]
  },
  {
   "cell_type": "code",
   "execution_count": null,
   "metadata": {},
   "outputs": [],
   "source": [
    "# ÚKOL: pomocí vhodných funkcí z knihovny NumPy extrahujte z matice A její horní a dolní trojúhelníkovou část.\n",
    "U = np.triu(A)\n",
    "print(U)\n",
    "print(\"---------------------\")\n",
    "\n",
    "L = np.tril(A)\n",
    "print(L)\n",
    "\n",
    "# Ověřte funkčnost porovnáním s příslušnou částí matice A"
   ]
  },
  {
   "cell_type": "code",
   "execution_count": null,
   "metadata": {},
   "outputs": [],
   "source": [
    "# ÚKOL: Vytvořte náhodný vektor b délky 4\n",
    "b = np.random.rand(4)\n",
    "\n",
    "print(b)"
   ]
  },
  {
   "attachments": {},
   "cell_type": "markdown",
   "metadata": {},
   "source": [
    "### Dopředná substituce\n",
    "\n",
    "Soustavu s dolní trojúhelníkovou maticí $\\mathsf{L}\\mathbf{x}=\\mathbf{b}$ můžeme efektivně řešit pomocí algoritmu dopředné substituce. \n",
    "\n",
    "1) Určíme první prvek vektoru řešení\n",
    "$$x_1 = b_1 / L_{1, 1}$$\n",
    "\n",
    "2) Zbývající prvky určíme jako \n",
    "$$\\forall i \\in \\{2, 3, \\ldots, m\\}: x_i = (b_i - \\sum_{j=1}^{i-1}L_{i, j} x_j) / L_{i, i}$$\n",
    "\n",
    "Na základě těchto předpisů doplňte chybějící části následujícího kódu. Nezapomeňte ale, že v Pythonu indexujeme od nuly."
   ]
  },
  {
   "cell_type": "code",
   "execution_count": null,
   "metadata": {},
   "outputs": [],
   "source": [
    "# ÚKOL: Doplňte následující kód\n",
    "\n",
    "def fsubst(L, b):\n",
    "    m, n = np.shape(L)  # pomocí vhodné funkce numpy uložte do proměnných m, n počet řádků a sloupců L\n",
    "    x = np.zeros(n)     # vytvořte vektor samých nul délky n\n",
    "    \n",
    "    x[0] = b[0] / L[0, 0]   # první prvek řešení\n",
    "\n",
    "    for i in range(1, m):\n",
    "\n",
    "        # nejdříve pomocí vnořeného for cyklu určíme hodnotu sumy z kroku 2:\n",
    "        suma = 0\n",
    "        for j in range(0, i):               # doplňte vhodně meze smyčky\n",
    "            suma += L[i, j] * x[j]          # doplňte\n",
    "        \n",
    "        x[i] = ( b[i] - suma ) / L[i, i]    # doplňte\n",
    "\n",
    "    return x\n"
   ]
  },
  {
   "cell_type": "code",
   "execution_count": null,
   "metadata": {},
   "outputs": [],
   "source": [
    "x = fsubst(L, b)\n",
    "print(x)"
   ]
  },
  {
   "cell_type": "code",
   "execution_count": null,
   "metadata": {},
   "outputs": [],
   "source": [
    "# ÚKOL: určete řešení pomocí funkce solve z numpy a porovnejte s vašim řešením\n",
    "x_numpy = np.linalg.solve(L, b)\n",
    "print(x_numpy)"
   ]
  },
  {
   "attachments": {},
   "cell_type": "markdown",
   "metadata": {},
   "source": [
    "### Zpětná substituce\n",
    "\n",
    "K vyřešení soustavy s horní trojúhelníkovou maticí $\\mathsf{U}\\mathbf{x} = \\mathbf{b}$ potřebujeme implementovat také algoritmus zpětné substituce. Ten je podobný dopředné substituci, postupuje však od posledního řádku:\n",
    "\n",
    "1) Určíme poslední prvek vektoru řešení \n",
    "$$x_m = b_m / U_{m,m}$$\n",
    "2) Určíme zbývající prvky\n",
    "$$\\forall i \\in \\{m-1, m-2, \\ldots, 1\\}: x_i = (b_i - \\sum_{j=i+1}^{m}U_{i, j}x_j) / U_{i, i}$$\n",
    "\n",
    "Implementujte v následující buňce vaši verzi zpětné substituce."
   ]
  },
  {
   "attachments": {},
   "cell_type": "markdown",
   "metadata": {},
   "source": [
    "**Poznámka** Při implementaci se vám bude hodit vědět, že funkce range umožňuje iterovat i \"pozpátku\". Vyzkoušejte si v následující buňce vytisknout přes jaká *i* iterují for cykly:\n",
    "- `for i in range(6, 0, -1)`\n",
    "- `for i in range(6, -1, -1)`\n",
    "- `for i in range(6, 0, -2)`\n",
    "- `for i in range(0, -6, -1)`"
   ]
  },
  {
   "cell_type": "code",
   "execution_count": null,
   "metadata": {},
   "outputs": [],
   "source": [
    "# ÚKOL: Vytiskněte i z příkladů v předchozí buňce.\n",
    "for i in range(6, 0, -1):\n",
    "    print(i)\n",
    "print(\"---------------------\")\n",
    "\n",
    "for i in range(6, -1, -1):\n",
    "    print(i)\n",
    "print(\"---------------------\")\n",
    "\n",
    "for i in range(6, 0, -2):\n",
    "    print(i)\n",
    "print(\"---------------------\")\n",
    "\n",
    "for i in range(0, -6, -1):\n",
    "    print(i)"
   ]
  },
  {
   "cell_type": "code",
   "execution_count": null,
   "metadata": {},
   "outputs": [],
   "source": [
    "# ÚKOL: Implementujte algoritmus zpětné substituce.\n",
    "\n",
    "def b_subst(U, b):\n",
    "\n",
    "    m, n = np.shape(U)\n",
    "    x = np.zeros(n)\n",
    "\n",
    "    x[n-1] = b[n-1]/U[n-1, n-1]\n",
    "\n",
    "    for i in range(n-2, -1, -1):\n",
    "        suma = 0\n",
    "        for j in range(i+1, n):\n",
    "            suma += U[i, j] * x[j]\n",
    "\n",
    "        x[i] = (b[i] - suma) / U[i, i]\n",
    "\n",
    "    return x\n"
   ]
  },
  {
   "cell_type": "code",
   "execution_count": null,
   "metadata": {},
   "outputs": [],
   "source": [
    "# ÚKOL: ověřte pomocí numpy, že vaše funkce vrací správný výsledek\n",
    "\n",
    "x2 = b_subst(U, b)\n",
    "x2_numpy = np.linalg.solve(U, b) # doplňte\n",
    "print(x2)\n",
    "print(x2_numpy)"
   ]
  },
  {
   "cell_type": "code",
   "execution_count": null,
   "metadata": {},
   "outputs": [],
   "source": []
  }
 ],
 "metadata": {
  "kernelspec": {
   "display_name": "Python 3",
   "language": "python",
   "name": "python3"
  },
  "language_info": {
   "codemirror_mode": {
    "name": "ipython",
    "version": 3
   },
   "file_extension": ".py",
   "mimetype": "text/x-python",
   "name": "python",
   "nbconvert_exporter": "python",
   "pygments_lexer": "ipython3",
   "version": "3.8.10"
  },
  "orig_nbformat": 4
 },
 "nbformat": 4,
 "nbformat_minor": 2
}
