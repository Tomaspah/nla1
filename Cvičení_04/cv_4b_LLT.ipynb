{
 "cells": [
  {
   "attachments": {},
   "cell_type": "markdown",
   "metadata": {},
   "source": [
    "# Cvičení 4b\n",
    "\n",
    "Tématem tohoto cvičení jsou přímé řešiče soustav lineárních rovnic (LU, LDLT, LDMT, Choleského dekompozice) a jejich výpočetní náročnosti.\n",
    "\n",
    "## Výpočetní náročnost přímých řešičů \n",
    "\n",
    "Připomeňme, kolik aritmetických operací přibližně vyžadují přímé řešiče:\n",
    "- LU rozklad bez pivotizace: $\\frac{2}{3}m^3$\n",
    "- LDMT rozklad: $\\frac{2}{3}m^3$\n",
    "- LDLT rozklad: $\\frac{1}{3}m^3$\n",
    "- Choleského rozklad: $\\frac{1}{2}m^3$\n",
    "- dopředná a zpětná substituce: $\\frac{1}{2}m^2$\n",
    "\n",
    "V první části cvičení porovnáme výpočetní časy vybraných metod z NumPy a SciPy v závislosti na velikosti vstupní matice."
   ]
  },
  {
   "cell_type": "code",
   "execution_count": 1,
   "metadata": {},
   "outputs": [],
   "source": [
    "# importujme potrebne knihovny\n",
    "\n",
    "import numpy as np\n",
    "import scipy.linalg\n",
    "import time\n",
    "import matplotlib.pyplot as plt"
   ]
  },
  {
   "attachments": {},
   "cell_type": "markdown",
   "metadata": {},
   "source": [
    "Následující funkce se stará o vykreslování grafu času rozkladu v závislosti na velikosti matice. Na vstupu má \n",
    "- pole `mat_sizes` s velikostmi testovaných matic,\n",
    "- pole `times` stejné velikosti jako `mat_sizes` s časy rozkladů matic o příslušné velikosti,\n",
    "- string s názvem řešiče, který slouží k vytvoření popisků grafu.\n",
    "\n",
    "Kód si prostudujte a pokuste se pochopit jeho jednotlivé části. Poté buňku zavolejte, abyste jej mohli využít v další části."
   ]
  },
  {
   "cell_type": "code",
   "execution_count": 2,
   "metadata": {},
   "outputs": [],
   "source": [
    "# Vytvoříme funkci pro vykreslení grafu času řešení.\n",
    "\n",
    "def plot_result(mat_sizes, times, solver_name):\n",
    "    fig, ax = plt.subplots()\n",
    "\n",
    "    # pro ilustraci proložíme časy graf funkce x^3, kde za x dosadíme velikosti \n",
    "    # faktorizovaných matic - nejdříve vypočítáme hodnoty na této křivce, později je vykreslíme\n",
    "    compl = mat_sizes ** 3\n",
    "    fit = compl[-1] / times[-1]\n",
    "    compl = compl.astype(float)\n",
    "    compl /= fit    \n",
    "    compl += times[0]\n",
    "\n",
    "    # Vykreslíme časy výpočtu v závislosti na velikosti matice\n",
    "    ax.plot(mat_sizes, times, linewidth=2, label=solver_name)\n",
    "    # Vykreslíme ilustrační kubickou funkci\n",
    "    ax.plot(mat_sizes, compl, '--', color=[0.5, 0.5, 0.5], linewidth=2,\n",
    "            label='$C_{1}m^{3}$')\n",
    "    \n",
    "    # Nastavíme postupně nadpis grafu, popisky os x a y\n",
    "    ax.set_title('Complexity of the {} factorization'.format(solver_name), fontsize=16)\n",
    "    ax.set_xlabel('Matrix size', fontsize=14)\n",
    "    ax.set_ylabel('Decomposition time [s]', fontsize=14)\n",
    "\n",
    "    # Nastavíme rozsah os x a y, zapneme mřížku, vykreslíme legendu\n",
    "    ax.set_xlim([mat_sizes[0], mat_sizes[-1]])\n",
    "    ax.set_ylim([0, np.max(times) * 1.1])\n",
    "    ax.grid(True)\n",
    "    ax.legend(loc='upper left', fontsize=12)"
   ]
  },
  {
   "attachments": {},
   "cell_type": "markdown",
   "metadata": {},
   "source": [
    "Nyní již můžeme přikročit k samotnému testování výpočetní náročnosti. V následují buňce si \n",
    "- nejdříve vygenerujeme pole s velikostmi testovaných matic od nejmenší po největší,\n",
    "- vytvoříme pole, do kterých budeme ukládat časy rozkladů jednotlivých matic,\n",
    "- ve smyčce projdeme přes všechny požadované rozměry matic,\n",
    "    - vygenerujeme si náhodnou symetrickou pozitivně definitní matici (abychom mohli testovat Choleského rozklad) o požadovaném rozměru,\n",
    "    - zavoláme postupně LU, LDLT a Choleského rozklad nad vygenerovanou maticí (vygooglete nebo zjistěte v dokumentaci, které metody a z které knihovny je třeba volat),\n",
    "    - pokaždé uložíme čas řešení na příslušné místo v příslušném poli,\n",
    "- pomocí výše vytvořené metody vykreslíme grafy časů řešení v závislosti na velikosti matice (porovnejte s vykreslenou kubickou funkcí),\n",
    "- nakonec do jednoho grafu vykreslíme všechny časy, ať je můžeme navzájem porovnat. "
   ]
  },
  {
   "cell_type": "code",
   "execution_count": null,
   "metadata": {},
   "outputs": [],
   "source": [
    "# ÚKOL: Doplňte chybějící kód\n",
    "\n",
    "# Test vypocetnich narocnosti primych resicu\n",
    "\n",
    "# Vygenerujeme vektor s rozmery matic\n",
    "min_m = 200\n",
    "max_m = 3000\n",
    "step = 100\n",
    "\n",
    "# ÚKOL: Použijte metodu arange z NumPy, abyste vygenerovali pole celých čísel \n",
    "# mezi min_m a max_m (včetně) s krokem step\n",
    "mat_sizes = \n",
    "\n",
    "# Predalokujeme si vektory, ve kterych budeme ukladat casy operaci\n",
    "# Zjistete, k cemu slouzi metoda zeros_like. Proc zde musime explicitne specifikovat \n",
    "# datovy typ? (budeme do nich ukladat cas ziskany metodou time(), ktera vraci pocet \n",
    "# sekund od jisteho data ve floatu)\n",
    "t_lu = np.zeros_like(mat_sizes, dtype=np.float64)\n",
    "t_ldl = np.zeros_like(mat_sizes, dtype=np.float64)\n",
    "t_chol = np.zeros_like(mat_sizes, dtype=np.float64)\n",
    "\n",
    "for i in range(len(mat_sizes)):\n",
    "    # Vygenerujeme nahodnou symetrickou pozitivne definitni matici\n",
    "    m = mat_sizes[i]\n",
    "    A = np.random.rand(m, m)\n",
    "    A = 0.5*(A + A.T)           # zajisti symetrii\n",
    "    A = A + m * np.eye(m)       # zajisti diagonalni dominanci (pozitivni def.)\n",
    "\n",
    "    # LU rozklad\n",
    "    st = time.time()\n",
    "    # ÚKOL: doplňte volání funkce, která počítá LU rozklad\n",
    "    P, L1, U = \n",
    "    t_lu[i] = time.time() - st\n",
    "\n",
    "    # LDLT rozklad\n",
    "    st = time.time()\n",
    "    # ÚKOL: doplňte volání funkce, která počítá LDLT rozklad\n",
    "    L2, D, perm = \n",
    "    t_ldl[i] = time.time() - st\n",
    "\n",
    "    # Choleskeho rozklad\n",
    "    st = time.time()\n",
    "    # ÚKOL: doplňte volání funkce, která počítá Choleského rozklad\n",
    "    L = \n",
    "    t_chol[i] = time.time() - st\n",
    "\n",
    "# Vykreslime casy reseni v zavislosti na velikosti matice pro jednotlive resice\n",
    "plot_result(mat_sizes, t_lu, 'LU')\n",
    "plot_result(mat_sizes, t_ldl, 'LDLT')\n",
    "plot_result(mat_sizes, t_chol, 'Cholesky')\n",
    "\n",
    "# Vykreslime casy LU, LDL a Choleskeho rozkladu do jednoho grafu\n",
    "fig, ax = plt.subplots()\n",
    "ax.grid(True)\n",
    "ax.plot(mat_sizes, t_lu, linewidth=2, label='LU')\n",
    "ax.plot(mat_sizes, t_ldl, linewidth=2, label='LDLT')\n",
    "ax.plot(mat_sizes, t_chol, linewidth=2, label='Cholesky')\n",
    "\n",
    "ax.set_title('Decomposition times', fontsize=16)\n",
    "ax.set_xlabel('Matrix size [m]', fontsize=14)\n",
    "ax.set_ylabel('Decomposition time [s]', fontsize=14)\n",
    "ax.tick_params(axis='both', which='major', labelsize=14)\n",
    "ax.legend(loc='upper left', fontsize=14)\n",
    "plt.show()"
   ]
  },
  {
   "attachments": {},
   "cell_type": "markdown",
   "metadata": {},
   "source": [
    "## Choleského rozklad\n",
    "\n",
    "Choleského rozklad slouží k rozkladu symetrické pozitivně definitní matice $\\mathsf{A}$ na tvar\n",
    "$$\\mathsf{A}=\\mathsf{L}^T\\mathsf{L},$$\n",
    "kde $L$ je horní trojúhelníková matice. Můžeme jej popsat např. následujícím pseudokódem:\n",
    "\n",
    "```\n",
    "m = size(A)\n",
    "L = zeros(m)\n",
    "for k = 1, ..., m do\n",
    "    w = A(k+1 : m, k)\n",
    "    A(k+1 : m, k+1 : m) = A(k+1 : m, k+1 : m) - w*w.T/A(k, k)\n",
    "    L(k,k) = sqrt(A(k,k))\n",
    "    L(k, k+1 : m) = w.T / sqrt(A(k,k))\n",
    "end for\n",
    "```\n"
   ]
  },
  {
   "cell_type": "code",
   "execution_count": null,
   "metadata": {},
   "outputs": [],
   "source": [
    "# ÚKOL: Podobně jako v kódu testující výpočetní náročnost si vygenerujte nějakou \n",
    "# testovací matici A, která je symetrická pozitivně definitní (např. symetrickou\n",
    "# diagonálně dominantní matici).\n",
    "\n",
    "m = 5\n",
    "A = \n",
    "\n",
    "np.set_printoptions(precision=3) # pro lepší přehlednost\n",
    "print(A)"
   ]
  },
  {
   "cell_type": "code",
   "execution_count": null,
   "metadata": {},
   "outputs": [],
   "source": [
    "# Tip: než se pustíte do následujícího úkolu porovnejte, co vrací \n",
    "# w = A[k+1 : m, k] \n",
    "#vs \n",
    "# w = A[k+1 : m, [k]]\n",
    "# a jak v závislosti na tom dopadne operace w @ w.T (chcete dostat matici, ne skalár)\n"
   ]
  },
  {
   "cell_type": "code",
   "execution_count": null,
   "metadata": {},
   "outputs": [],
   "source": [
    "# ÚKOL: Implementujte na základě předchozího algoritmu funkci my_chol, která má na vstupu\n",
    "# symetrickou pozitivně definitní matici A a vrací L.\n",
    "\n",
    "def my_chol(A):\n",
    "   m, n = np.shape(A)\n",
    "    \n",
    "   \n",
    "   return L\n"
   ]
  },
  {
   "cell_type": "code",
   "execution_count": null,
   "metadata": {},
   "outputs": [],
   "source": [
    "# Ověříme, zda je naše řešení správné.\n",
    "L = my_chol(A)\n",
    "A2 = L.T@L\n",
    "print(A2 - A)"
   ]
  },
  {
   "cell_type": "code",
   "execution_count": null,
   "metadata": {},
   "outputs": [],
   "source": [
    "# Bonus: Výše vykreslené grafy nemusí být příliš hladké, časy mohou skákat v závislosti např. na aktuálním\n",
    "# vytížení systému. Upravte kód tak, aby se grafy kreslily z průměrů časů výpočtu při několika bězích."
   ]
  },
  {
   "attachments": {},
   "cell_type": "markdown",
   "metadata": {},
   "source": [
    "# Domácí úkol č. 2\n",
    "\n",
    "Vašim úkolem bude porovnat výkon vámi implementovaných metod pro LU rozklad a Choleského rozklad podobně, jako jsme porovnávali zabudované SciPy metody v první části tohoto cvičení. Vyjděte tedy z výše implementovaného kódu, který ve smyčce volá rozklady matic, a upravte jej tak, aby volal vaše metody pro LU a Choleského rozklad místo NumPy metod (volání LDLT rozkladu můžete zrušit). Metodu `plot_results` upravovat nemusíte.\n",
    "\n",
    "**Tip**: Vzhledem k tomu, že vaše metody nejspíš budou méně efektivní než původně volané SciPy metody, budete muset zmenšit maximální velikost testovaných matic."
   ]
  },
  {
   "cell_type": "code",
   "execution_count": null,
   "metadata": {},
   "outputs": [],
   "source": [
    "# Zde si z minulého cvičení zkopírujte vámi implementovanou metodu pro LU faktorizaci\n"
   ]
  },
  {
   "cell_type": "code",
   "execution_count": null,
   "metadata": {},
   "outputs": [],
   "source": [
    "# Zde zkopírujte kód z třetí buňky a upravte jej tak, aby volal vaše metody pro LU a Choleského faktorizaci\n"
   ]
  }
 ],
 "metadata": {
  "kernelspec": {
   "display_name": "Python 3",
   "language": "python",
   "name": "python3"
  },
  "language_info": {
   "codemirror_mode": {
    "name": "ipython",
    "version": 3
   },
   "file_extension": ".py",
   "mimetype": "text/x-python",
   "name": "python",
   "nbconvert_exporter": "python",
   "pygments_lexer": "ipython3",
   "version": "3.8.10"
  },
  "orig_nbformat": 4
 },
 "nbformat": 4,
 "nbformat_minor": 2
}
