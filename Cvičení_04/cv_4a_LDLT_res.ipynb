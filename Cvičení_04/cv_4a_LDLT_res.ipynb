{
 "cells": [
  {
   "cell_type": "markdown",
   "metadata": {},
   "source": [
    "# Cvičení 4a\n",
    "\n",
    "Tématem tohoto cvičení jsou přímé metody řešení soustav lineárních rovnic. Budeme se zabývat LDLT rozkladem."
   ]
  },
  {
   "cell_type": "markdown",
   "metadata": {},
   "source": [
    "# LDLT rozklad\n",
    "\n",
    "LDLT rozklad je vhodný pro symetrické matice. Lze jej popsat následujícím pseudokódem:\n",
    "\n",
    "```\n",
    "n = size(A)\n",
    "L = I, D = 0\n",
    "\n",
    "v(1) = A(1, 1)\n",
    "D(1, 1) = v(1)\n",
    "L(2:n, 1) = A(2:n, 1)/v(1)\n",
    "\n",
    "for j = 2 to n do\n",
    "    for i = 1 to j - 1 do\n",
    "        v(i) = L(j, i)D(i, i)\n",
    "    end\n",
    "\n",
    "    v(j) = A(j, j) - L(j, 1:j-1)v(1:j-1)\n",
    "    D(j, j) = v(j)\n",
    "    L(j+1:n, j) = (A(j+1:n, j) - L(j+1:n, 1:j-1)v(1:j-1)) / v(j)\n",
    "end\n",
    "```\n",
    "\n",
    "V následující části implementujete LDLT rozklad a využijete ho k řešení soustavy se symetrickou maticí."
   ]
  },
  {
   "cell_type": "code",
   "execution_count": null,
   "metadata": {},
   "outputs": [],
   "source": [
    "# ÚKOL: Doplňte následující kód\n",
    "\n",
    "import numpy as np\n",
    "\n",
    "def my_ldlt(A):\n",
    "    \"\"\"\n",
    "    Vypočítá LDLT rozklad symetrické matice.\n",
    "    Vstup: A - A symetrická matice\n",
    "    Výstup: L, D - Matice dekompozice takové, že platí A = L*D*L.T\n",
    "    \"\"\"\n",
    "    m, n = A.shape\n",
    "\n",
    "    # Zkontrolujme, že je matice čtvercová\n",
    "    if m != n:\n",
    "        raise ValueError('The matrix must be square!')\n",
    "\n",
    "    L = np.eye(m)\n",
    "    D = np.zeros((m, m))\n",
    "\n",
    "    v = np.zeros(m)\n",
    "    v[0] = A[0, 0]\n",
    "    D[0, 0] = v[0]\n",
    "    L[1:n, 0] = A[1:n, 0] / v[0]\n",
    "\n",
    "    for j in range(1, n):\n",
    "        for i in range(j):\n",
    "            v[i] = L[j, i] * D[i, i]\n",
    "\n",
    "        v[j] = A[j, j] - np.dot(L[j, 0:j], v[0:j])\n",
    "        D[j, j] = v[j]\n",
    "        if j+1 <= n-1:  # Abychom v poslední iteraci nepřesáhli meze\n",
    "            L[j+1:n, j] = (A[j+1:n, j] - np.dot(L[j+1:n, 0:j], v[0:j])) / v[j]\n",
    "\n",
    "    return L, D"
   ]
  },
  {
   "cell_type": "code",
   "execution_count": null,
   "metadata": {},
   "outputs": [],
   "source": [
    "# Vygenerujeme náhodnou symetrickou matici\n",
    "A = np.random.rand(5, 5)\n",
    "A = A + A.transpose()\n",
    "print(A)"
   ]
  },
  {
   "cell_type": "code",
   "execution_count": null,
   "metadata": {},
   "outputs": [],
   "source": [
    "# Otestujeme, že váš kód vrací správný výsledek\n",
    "L, D = my_ldlt(A)\n",
    "AA = L@D@L.transpose()\n",
    "print(AA-A)"
   ]
  },
  {
   "cell_type": "markdown",
   "metadata": {},
   "source": [
    "Známe-li rozklad symetrické matice $\\mathsf{A} = \\mathsf{L}\\mathsf{D}\\mathsf{L}^T$, můžeme jej využít k řešení soustavy $\\mathsf{A}\\mathbf{x} = \\mathbf{b}$, kterou převedeme na \n",
    "$$\\mathsf{L}\\mathsf{D}\\mathsf{L}^T\\mathbf{x} = \\mathbf{b}$$\n",
    "a vyřešíme vhodnými substitucemi s využitím dopředné a zpětné substituce.\n",
    "\n",
    "Rozmyslete si, jak takové substituce budou vypadat a v následující části vyřešte náhodnou soustavu."
   ]
  },
  {
   "cell_type": "code",
   "execution_count": null,
   "metadata": {},
   "outputs": [],
   "source": [
    "# ÚKOL: Zkopírujte z minulého cvičení\n",
    "\n",
    "def fsubst(L, b):\n",
    "    m, n = np.shape(L)\n",
    "    x = np.zeros(n)\n",
    "\n",
    "    x[0] = b[0] / L[0, 0]\n",
    "\n",
    "    for i in range(1, m):\n",
    "        suma = 0\n",
    "        for j in range(0, i):\n",
    "            suma += L[i, j] * x[j]\n",
    "\n",
    "        x[i] = ( b[i] - suma ) / L[i, i]\n",
    "\n",
    "    return x"
   ]
  },
  {
   "cell_type": "code",
   "execution_count": null,
   "metadata": {},
   "outputs": [],
   "source": [
    "# ÚKOL: Zkopírujte z minulého cvičení\n",
    "\n",
    "def bsubst(U, b):\n",
    "\n",
    "    m, n = np.shape(U)\n",
    "    x = np.zeros(n)\n",
    "\n",
    "    x[n-1] = b[n-1]/U[n-1, n-1]\n",
    "\n",
    "    for i in range(n-2, -1, -1):\n",
    "        suma = 0\n",
    "        for j in range(i+1, n):\n",
    "            suma += U[i, j] * x[j]\n",
    "\n",
    "        x[i] = (b[i] - suma) / U[i, i]\n",
    "\n",
    "    return x"
   ]
  },
  {
   "cell_type": "code",
   "execution_count": null,
   "metadata": {},
   "outputs": [],
   "source": [
    "# ÚKOL: Doplňte následující buňku a vyřešte soustavu rovnic Ax = b se symetrickou náhodnou maticí A a\n",
    "# náhodným vektorem pravé strany b. Využijte vaše metody fsubst a bsubst\n",
    "b = np.random.rand(5)\n",
    "y = fsubst(L, b)\n",
    "\n",
    "z = np.zeros(b.size)\n",
    "for i in range(b.size):\n",
    "    z[i] = y[i] / D[i, i]\n",
    "\n",
    "vase_x = bsubst(L.transpose(), z)"
   ]
  },
  {
   "cell_type": "code",
   "execution_count": null,
   "metadata": {},
   "outputs": [],
   "source": [
    "# Porovnáme vaše řešení a řešen pomocí numpy\n",
    "print(vase_x)\n",
    "print(np.linalg.solve(A, b))"
   ]
  }
 ],
 "metadata": {
  "kernelspec": {
   "display_name": "Python 3",
   "language": "python",
   "name": "python3"
  },
  "language_info": {
   "codemirror_mode": {
    "name": "ipython",
    "version": 3
   },
   "file_extension": ".py",
   "mimetype": "text/x-python",
   "name": "python",
   "nbconvert_exporter": "python",
   "pygments_lexer": "ipython3",
   "version": "3.8.10"
  }
 },
 "nbformat": 4,
 "nbformat_minor": 2
}
