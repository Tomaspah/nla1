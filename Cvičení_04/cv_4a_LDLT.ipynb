{
 "cells": [
  {
   "cell_type": "markdown",
   "metadata": {},
   "source": [
    "# Cvičení 4a\n",
    "\n",
    "Tématem tohoto cvičení jsou přímé metody řešení soustav lineárních rovnic. Budeme se zabývat LDLT rozkladem."
   ]
  },
  {
   "cell_type": "markdown",
   "metadata": {},
   "source": [
    "## LDLT rozklad\n",
    "\n",
    "LDLT rozklad je vhodný pro symetrické matice. Lze jej popsat následujícím pseudokódem:\n",
    "\n",
    "```\n",
    "n = size(A)\n",
    "L = I, D = 0\n",
    "\n",
    "v(1) = A(1, 1)\n",
    "D(1, 1) = v(1)\n",
    "L(2:n, 1) = A(2:n, 1)/v(1)\n",
    "\n",
    "for j = 2 to n do\n",
    "    for i = 1 to j - 1 do\n",
    "        v(i) = L(j, i)D(i, i)\n",
    "    end\n",
    "\n",
    "    v(j) = A(j, j) - L(j, 1:j-1)v(1, j-1)\n",
    "    D(j, j) = v(j)\n",
    "    L(j+1:n, j) = (A(j+1:n, j) - L(j+1:n, 1:j-1)v(1:j-1)) / v(j)\n",
    "end\n",
    "```\n",
    "\n",
    "V následující části implementujete LDLT rozklad a využijete ho k řešení soustavy se symetrickou maticí."
   ]
  },
  {
   "cell_type": "code",
   "execution_count": 6,
   "metadata": {},
   "outputs": [],
   "source": [
    "# ÚKOL: Doplňte následující kód\n",
    "\n",
    "import numpy as np\n",
    "\n",
    "def my_ldlt(A):\n",
    "    \"\"\"\n",
    "    Vypočítá LDLT rozklad symetrické matice.\n",
    "    Vstup: A - A symetrická matice\n",
    "    Výstup: L, D - Matice dekompozice takové, že platí A = L*D*L.T\n",
    "    \"\"\"\n",
    "    m, n = A.shape\n",
    "\n",
    "    # Zkontrolujme, že je matice čtvercová\n",
    "    if m != n:\n",
    "        raise ValueError('The matrix must be square!')\n",
    "\n",
    "    L = np.eye(m)\n",
    "    D = np.zeros((m, m))\n",
    "\n",
    "    v = np.zeros(m)\n",
    "\n",
    "    # doplnte\n",
    "\n",
    "\n",
    "    return L, D"
   ]
  },
  {
   "cell_type": "code",
   "execution_count": null,
   "metadata": {},
   "outputs": [],
   "source": [
    "# Vygenerujeme náhodnou symetrickou matici\n",
    "A = np.random.rand(5, 5)\n",
    "\n",
    "A = A + A.transpose()\n",
    "print(A)"
   ]
  },
  {
   "cell_type": "code",
   "execution_count": null,
   "metadata": {},
   "outputs": [],
   "source": [
    "# Otestujeme, že váš kód vrací správný výsledek\n",
    "L, D = my_ldlt(A)\n",
    "AA = L@D@L.transpose()\n",
    "print(AA-A)"
   ]
  },
  {
   "cell_type": "markdown",
   "metadata": {},
   "source": [
    "Známe-li rozklad symetrické matice $\\mathsf{A} = \\mathsf{L}\\mathsf{D}\\mathsf{L}^T$, můžeme jej využít k řešení soustavy $\\mathsf{A}\\mathbf{x} = \\mathbf{b}$, kterou převedeme na \n",
    "$$\\mathsf{L}\\mathsf{D}\\mathsf{L}^T\\mathbf{x} = \\mathbf{b}$$\n",
    "a vyřešíme vhodnými substitucemi s využitím dopředné a zpětné substituce.\n",
    "\n",
    "Rozmyslete si, jak takové substituce budou vypadat a v následující části vyřešte náhodnou soustavu."
   ]
  },
  {
   "cell_type": "code",
   "execution_count": null,
   "metadata": {},
   "outputs": [],
   "source": [
    "# ÚKOL: Zkopírujte z minulého cvičení\n",
    "\n",
    "def fsubst(L, b):"
   ]
  },
  {
   "cell_type": "code",
   "execution_count": null,
   "metadata": {},
   "outputs": [],
   "source": [
    "# ÚKOL: Zkopírujte z minulého cvičení\n",
    "\n",
    "def bsubst(U, b):"
   ]
  },
  {
   "cell_type": "code",
   "execution_count": null,
   "metadata": {},
   "outputs": [],
   "source": [
    "# ÚKOL: Doplňte následující buňku a vyřešte soustavu rovnic Ax = b se symetrickou náhodnou maticí A a\n",
    "# náhodným vektorem pravé strany b. Využijte vaše metody fsubst a bsubst\n",
    "b = np.random.rand(5)\n",
    "\n",
    "# doplňte řešení soustavy Ax = b pomoci LDLT rozkladu\n",
    "\n",
    "vase_x = # doplňte"
   ]
  },
  {
   "cell_type": "code",
   "execution_count": null,
   "metadata": {},
   "outputs": [],
   "source": [
    "# Porovnáme vaše řešení a řešení pomocí numpy\n",
    "print(vase_x)\n",
    "print(np.linalg.solve(A, b))"
   ]
  }
 ],
 "metadata": {
  "kernelspec": {
   "display_name": "Python 3",
   "language": "python",
   "name": "python3"
  },
  "language_info": {
   "codemirror_mode": {
    "name": "ipython",
    "version": 3
   },
   "file_extension": ".py",
   "mimetype": "text/x-python",
   "name": "python",
   "nbconvert_exporter": "python",
   "pygments_lexer": "ipython3",
   "version": "3.8.10"
  }
 },
 "nbformat": 4,
 "nbformat_minor": 2
}
